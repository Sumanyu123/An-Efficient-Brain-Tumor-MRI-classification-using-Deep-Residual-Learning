{
 "metadata": {
  "language_info": {
   "codemirror_mode": {
    "name": "ipython",
    "version": 3
   },
   "file_extension": ".py",
   "mimetype": "text/x-python",
   "name": "python",
   "nbconvert_exporter": "python",
   "pygments_lexer": "ipython3",
   "version": "3.8.5"
  },
  "orig_nbformat": 2,
  "kernelspec": {
   "name": "python385jvsc74a57bd0c5e48f84046969b800ff52f6d80523bcd1ca3fb1a99f1449e4197bf6c73dc096",
   "display_name": "Python 3.8.5 64-bit ('base': conda)"
  }
 },
 "nbformat": 4,
 "nbformat_minor": 2,
 "cells": [
  {
   "cell_type": "code",
   "execution_count": 1,
   "metadata": {},
   "outputs": [],
   "source": [
    "from main_module import *\n",
    "\n",
    "# torch typing scripts\n",
    "_path =  NewType(\"_path\", Any)\n",
    "_transform = NewType(\"_transform\", Any)\n",
    "_img = NewType(\"_img\", Any)\n",
    "_criterion = NewType(\"_criterion\", Any)\n",
    "_optimizor = NewType(\"_optimizor\", Any)\n",
    "_loss = NewType(\"_loss\", Any)"
   ]
  },
  {
   "cell_type": "code",
   "execution_count": null,
   "metadata": {},
   "outputs": [],
   "source": [
    "def generate(*args: list[Any], **kwargs: dict[Any, Any]) -> Generator[Any, None, None]:\n",
    "    if args:\n",
    "        for item in args:\n",
    "            yield item\n",
    "    if kwargs:\n",
    "        for key, value in kwargs:\n",
    "            yield f\"{key} : {value}\"\n",
    "\n",
    "\n",
    "if __name__:\n",
    "    ..."
   ]
  }
 ]
}